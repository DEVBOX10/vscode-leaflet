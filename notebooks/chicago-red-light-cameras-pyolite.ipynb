{
 "cells": [
  {
   "cell_type": "markdown",
   "source": [
    "# Chicago Red Light Cameras Pyolite Notebook 📓\r\n",
    "\r\n",
    "Data Source: [Chicago Transportation](https://data.cityofchicago.org/browse?category=Transportation)/[Red Light Camera Locations](https://data.cityofchicago.org/Transportation/Red-Light-Camera-Locations/thvf-6diy)"
   ],
   "metadata": {}
  },
  {
   "cell_type": "code",
   "execution_count": null,
   "source": [
    "import json\r\n",
    "from js import fetch\r\n",
    "\r\n",
    "response = await fetch('https://data.cityofchicago.org/resource/thvf-6diy.json')\r\n",
    "text = await response.text()\r\n",
    "data = json.loads(text)\r\n",
    "text"
   ],
   "outputs": [],
   "metadata": {}
  }
 ],
 "metadata": {
  "orig_nbformat": 4,
  "language_info": {
   "name": "python"
  }
 },
 "nbformat": 4,
 "nbformat_minor": 2
}