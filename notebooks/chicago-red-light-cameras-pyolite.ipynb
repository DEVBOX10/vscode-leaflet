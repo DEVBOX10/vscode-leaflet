{
 "cells": [
  {
   "cell_type": "markdown",
   "metadata": {},
   "source": [
    "# Chicago Red Light Cameras Pyolite Notebook 📓\n",
    "\n",
    "Data Source: [Chicago Transportation](https://data.cityofchicago.org/browse?category=Transportation)/[Red Light Camera Locations](https://data.cityofchicago.org/Transportation/Red-Light-Camera-Locations/thvf-6diy)"
   ]
  },
  {
   "cell_type": "code",
   "execution_count": null,
   "metadata": {},
   "outputs": [],
   "source": [
    "from js import fetch\n",
    "response = await fetch('https://raw.githubusercontent.com/RandomFractals/vscode-leaflet/main/data/geojson/chicago-red-light-cameras.geojson')\n",
    "geoJson = await response.text()\n",
    "geoJson"
   ]
  }
 ],
 "metadata": {
  "language_info": {
   "name": "python"
  },
  "orig_nbformat": 4
 },
 "nbformat": 4,
 "nbformat_minor": 2
}
